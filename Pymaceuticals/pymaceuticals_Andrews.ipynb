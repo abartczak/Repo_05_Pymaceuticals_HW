{
 "cells": [
  {
   "cell_type": "markdown",
   "metadata": {},
   "source": [
    "## Observations and Insights "
   ]
  },
  {
   "cell_type": "markdown",
   "metadata": {},
   "source": [
    "In this animal study, 249 mice identified with squamous cell carcinoma (SCC) - a commonly occurring form of skin cancer, tumor growth were treated through a variety of drug regimens. Over the course of 45 days, tumor development was observed and measured. The purpose of this study was to compare the performance of Pymaceuticals' drug of interest, Capomulin, versus the other most promising treatment regimens: Ramicane, Infubinol, and Ceftamin.\n",
    "\n",
    "A breakdown of the Sumary Statistics data points for each treatment regimen shows that: Capomulin had the highest tumor volume of 230 with a Median of 41.56; Ramicane had 228 with a Median of 40.67; Infubinol had 178 with a Median of 51.82 and Ceftamin had 178 with a Median of 51.78. The data therefore is of statistical significance since the number of data points for each Drug Regimen is above 30.\n",
    "\n",
    "Based on the average final tumor volume, both Capomulin and Ramicane both were much more effective in reducing tumor volume in the mice over the 45-day study period than Infubinol and Ceftamin. Capomulin had the best statistical scores overall. It  was more consistent than Ramicane as illustrated by the shortness of its box. Only infubinol registered an outlier.\n",
    "\n",
    "The line Plot Timepoint versus Tumor Volume shows a downward trend of tumor shrinkage in the mice treated by Capomulin. This implies that this treatment over a longer period of time should lead to more shrinkage in the tumor volume with the other variables remaining constant.\n",
    "\n",
    "There was a strong correlation between the weight of the mouse (R-squared of 0.84) and their average tumor volume. Suggesting that to have positive results the weight of the mouse must be controlled otherwise correlating only the final tumor volume to efficacy without controlling for mouse weight could skew the interpretation of the drug’s efficacy.\n",
    "\n",
    "Finally, the study results showed a very balanced gender distribution of 49.1% female versus 50.9 male mice participants."
   ]
  },
  {
   "cell_type": "code",
   "execution_count": 1,
   "metadata": {
    "scrolled": true
   },
   "outputs": [
    {
     "name": "stdout",
     "output_type": "stream",
     "text": [
      "1893\n"
     ]
    },
    {
     "data": {
      "text/html": [
       "<div>\n",
       "<style scoped>\n",
       "    .dataframe tbody tr th:only-of-type {\n",
       "        vertical-align: middle;\n",
       "    }\n",
       "\n",
       "    .dataframe tbody tr th {\n",
       "        vertical-align: top;\n",
       "    }\n",
       "\n",
       "    .dataframe thead th {\n",
       "        text-align: right;\n",
       "    }\n",
       "</style>\n",
       "<table border=\"1\" class=\"dataframe\">\n",
       "  <thead>\n",
       "    <tr style=\"text-align: right;\">\n",
       "      <th></th>\n",
       "      <th>Mouse ID</th>\n",
       "      <th>Drug Regimen</th>\n",
       "      <th>Sex</th>\n",
       "      <th>Age_months</th>\n",
       "      <th>Weight (g)</th>\n",
       "      <th>Timepoint</th>\n",
       "      <th>Tumor Volume (mm3)</th>\n",
       "      <th>Metastatic Sites</th>\n",
       "    </tr>\n",
       "  </thead>\n",
       "  <tbody>\n",
       "    <tr>\n",
       "      <th>0</th>\n",
       "      <td>k403</td>\n",
       "      <td>Ramicane</td>\n",
       "      <td>Male</td>\n",
       "      <td>21</td>\n",
       "      <td>16</td>\n",
       "      <td>0</td>\n",
       "      <td>45.000000</td>\n",
       "      <td>0</td>\n",
       "    </tr>\n",
       "    <tr>\n",
       "      <th>1</th>\n",
       "      <td>k403</td>\n",
       "      <td>Ramicane</td>\n",
       "      <td>Male</td>\n",
       "      <td>21</td>\n",
       "      <td>16</td>\n",
       "      <td>5</td>\n",
       "      <td>38.825898</td>\n",
       "      <td>0</td>\n",
       "    </tr>\n",
       "    <tr>\n",
       "      <th>2</th>\n",
       "      <td>k403</td>\n",
       "      <td>Ramicane</td>\n",
       "      <td>Male</td>\n",
       "      <td>21</td>\n",
       "      <td>16</td>\n",
       "      <td>10</td>\n",
       "      <td>35.014271</td>\n",
       "      <td>1</td>\n",
       "    </tr>\n",
       "    <tr>\n",
       "      <th>3</th>\n",
       "      <td>k403</td>\n",
       "      <td>Ramicane</td>\n",
       "      <td>Male</td>\n",
       "      <td>21</td>\n",
       "      <td>16</td>\n",
       "      <td>15</td>\n",
       "      <td>34.223992</td>\n",
       "      <td>1</td>\n",
       "    </tr>\n",
       "    <tr>\n",
       "      <th>4</th>\n",
       "      <td>k403</td>\n",
       "      <td>Ramicane</td>\n",
       "      <td>Male</td>\n",
       "      <td>21</td>\n",
       "      <td>16</td>\n",
       "      <td>20</td>\n",
       "      <td>32.997729</td>\n",
       "      <td>1</td>\n",
       "    </tr>\n",
       "  </tbody>\n",
       "</table>\n",
       "</div>"
      ],
      "text/plain": [
       "  Mouse ID Drug Regimen   Sex  Age_months  Weight (g)  Timepoint  \\\n",
       "0     k403     Ramicane  Male          21          16          0   \n",
       "1     k403     Ramicane  Male          21          16          5   \n",
       "2     k403     Ramicane  Male          21          16         10   \n",
       "3     k403     Ramicane  Male          21          16         15   \n",
       "4     k403     Ramicane  Male          21          16         20   \n",
       "\n",
       "   Tumor Volume (mm3)  Metastatic Sites  \n",
       "0           45.000000                 0  \n",
       "1           38.825898                 0  \n",
       "2           35.014271                 1  \n",
       "3           34.223992                 1  \n",
       "4           32.997729                 1  "
      ]
     },
     "execution_count": 1,
     "metadata": {},
     "output_type": "execute_result"
    }
   ],
   "source": [
    "# Dependencies and Setup\n",
    "import matplotlib.pyplot as plt\n",
    "import pandas as pd\n",
    "import scipy.stats as st\n",
    "\n",
    "# Study data files\n",
    "mouse_metadata_path = \"data/Mouse_metadata.csv\"\n",
    "study_results_path = \"data/Study_results.csv\"\n",
    "\n",
    "# Read the mouse data and the study results\n",
    "mouse_metadata = pd.read_csv(mouse_metadata_path)\n",
    "study_results = pd.read_csv(study_results_path)\n",
    "\n",
    "# Combine the data into a single dataset\n",
    "mouse_study_data_Dups = pd.merge(mouse_metadata, study_results, how=\"outer\", on=\"Mouse ID\")\n",
    "print(mouse_study_data_Dups[\"Mouse ID\"].count())\n",
    "mouse_study_data_Dups.head()"
   ]
  },
  {
   "cell_type": "code",
   "execution_count": 2,
   "metadata": {},
   "outputs": [
    {
     "data": {
      "text/plain": [
       "0       False\n",
       "1       False\n",
       "2       False\n",
       "3       False\n",
       "4       False\n",
       "        ...  \n",
       "1888    False\n",
       "1889    False\n",
       "1890    False\n",
       "1891    False\n",
       "1892    False\n",
       "Length: 1893, dtype: bool"
      ]
     },
     "execution_count": 2,
     "metadata": {},
     "output_type": "execute_result"
    }
   ],
   "source": [
    "# Getting the duplicate mice by ID number that shows up for Mouse ID and Timepoint. \n",
    "mouse_dup = mouse_study_data_Dups[[\"Mouse ID\", \"Timepoint\"]].duplicated(keep=False)\n",
    "mouse_dup"
   ]
  },
  {
   "cell_type": "code",
   "execution_count": 3,
   "metadata": {},
   "outputs": [
    {
     "data": {
      "text/html": [
       "<div>\n",
       "<style scoped>\n",
       "    .dataframe tbody tr th:only-of-type {\n",
       "        vertical-align: middle;\n",
       "    }\n",
       "\n",
       "    .dataframe tbody tr th {\n",
       "        vertical-align: top;\n",
       "    }\n",
       "\n",
       "    .dataframe thead th {\n",
       "        text-align: right;\n",
       "    }\n",
       "</style>\n",
       "<table border=\"1\" class=\"dataframe\">\n",
       "  <thead>\n",
       "    <tr style=\"text-align: right;\">\n",
       "      <th></th>\n",
       "      <th>Mouse ID</th>\n",
       "      <th>Drug Regimen</th>\n",
       "      <th>Sex</th>\n",
       "      <th>Age_months</th>\n",
       "      <th>Weight (g)</th>\n",
       "      <th>Timepoint</th>\n",
       "      <th>Tumor Volume (mm3)</th>\n",
       "      <th>Metastatic Sites</th>\n",
       "    </tr>\n",
       "  </thead>\n",
       "  <tbody>\n",
       "    <tr>\n",
       "      <th>908</th>\n",
       "      <td>g989</td>\n",
       "      <td>Propriva</td>\n",
       "      <td>Female</td>\n",
       "      <td>21</td>\n",
       "      <td>26</td>\n",
       "      <td>0</td>\n",
       "      <td>45.000000</td>\n",
       "      <td>0</td>\n",
       "    </tr>\n",
       "    <tr>\n",
       "      <th>909</th>\n",
       "      <td>g989</td>\n",
       "      <td>Propriva</td>\n",
       "      <td>Female</td>\n",
       "      <td>21</td>\n",
       "      <td>26</td>\n",
       "      <td>0</td>\n",
       "      <td>45.000000</td>\n",
       "      <td>0</td>\n",
       "    </tr>\n",
       "    <tr>\n",
       "      <th>910</th>\n",
       "      <td>g989</td>\n",
       "      <td>Propriva</td>\n",
       "      <td>Female</td>\n",
       "      <td>21</td>\n",
       "      <td>26</td>\n",
       "      <td>5</td>\n",
       "      <td>48.786801</td>\n",
       "      <td>0</td>\n",
       "    </tr>\n",
       "    <tr>\n",
       "      <th>911</th>\n",
       "      <td>g989</td>\n",
       "      <td>Propriva</td>\n",
       "      <td>Female</td>\n",
       "      <td>21</td>\n",
       "      <td>26</td>\n",
       "      <td>5</td>\n",
       "      <td>47.570392</td>\n",
       "      <td>0</td>\n",
       "    </tr>\n",
       "    <tr>\n",
       "      <th>912</th>\n",
       "      <td>g989</td>\n",
       "      <td>Propriva</td>\n",
       "      <td>Female</td>\n",
       "      <td>21</td>\n",
       "      <td>26</td>\n",
       "      <td>10</td>\n",
       "      <td>51.745156</td>\n",
       "      <td>0</td>\n",
       "    </tr>\n",
       "    <tr>\n",
       "      <th>913</th>\n",
       "      <td>g989</td>\n",
       "      <td>Propriva</td>\n",
       "      <td>Female</td>\n",
       "      <td>21</td>\n",
       "      <td>26</td>\n",
       "      <td>10</td>\n",
       "      <td>49.880528</td>\n",
       "      <td>0</td>\n",
       "    </tr>\n",
       "    <tr>\n",
       "      <th>914</th>\n",
       "      <td>g989</td>\n",
       "      <td>Propriva</td>\n",
       "      <td>Female</td>\n",
       "      <td>21</td>\n",
       "      <td>26</td>\n",
       "      <td>15</td>\n",
       "      <td>51.325852</td>\n",
       "      <td>1</td>\n",
       "    </tr>\n",
       "    <tr>\n",
       "      <th>915</th>\n",
       "      <td>g989</td>\n",
       "      <td>Propriva</td>\n",
       "      <td>Female</td>\n",
       "      <td>21</td>\n",
       "      <td>26</td>\n",
       "      <td>15</td>\n",
       "      <td>53.442020</td>\n",
       "      <td>0</td>\n",
       "    </tr>\n",
       "    <tr>\n",
       "      <th>916</th>\n",
       "      <td>g989</td>\n",
       "      <td>Propriva</td>\n",
       "      <td>Female</td>\n",
       "      <td>21</td>\n",
       "      <td>26</td>\n",
       "      <td>20</td>\n",
       "      <td>55.326122</td>\n",
       "      <td>1</td>\n",
       "    </tr>\n",
       "    <tr>\n",
       "      <th>917</th>\n",
       "      <td>g989</td>\n",
       "      <td>Propriva</td>\n",
       "      <td>Female</td>\n",
       "      <td>21</td>\n",
       "      <td>26</td>\n",
       "      <td>20</td>\n",
       "      <td>54.657650</td>\n",
       "      <td>1</td>\n",
       "    </tr>\n",
       "  </tbody>\n",
       "</table>\n",
       "</div>"
      ],
      "text/plain": [
       "    Mouse ID Drug Regimen     Sex  Age_months  Weight (g)  Timepoint  \\\n",
       "908     g989     Propriva  Female          21          26          0   \n",
       "909     g989     Propriva  Female          21          26          0   \n",
       "910     g989     Propriva  Female          21          26          5   \n",
       "911     g989     Propriva  Female          21          26          5   \n",
       "912     g989     Propriva  Female          21          26         10   \n",
       "913     g989     Propriva  Female          21          26         10   \n",
       "914     g989     Propriva  Female          21          26         15   \n",
       "915     g989     Propriva  Female          21          26         15   \n",
       "916     g989     Propriva  Female          21          26         20   \n",
       "917     g989     Propriva  Female          21          26         20   \n",
       "\n",
       "     Tumor Volume (mm3)  Metastatic Sites  \n",
       "908           45.000000                 0  \n",
       "909           45.000000                 0  \n",
       "910           48.786801                 0  \n",
       "911           47.570392                 0  \n",
       "912           51.745156                 0  \n",
       "913           49.880528                 0  \n",
       "914           51.325852                 1  \n",
       "915           53.442020                 0  \n",
       "916           55.326122                 1  \n",
       "917           54.657650                 1  "
      ]
     },
     "execution_count": 3,
     "metadata": {},
     "output_type": "execute_result"
    }
   ],
   "source": [
    "# Optional: Get all the data for the duplicate mouse ID.\n",
    "mouse_duplicates = mouse_study_data_Dups[mouse_dup]\n",
    "mouse_duplicates"
   ]
  },
  {
   "cell_type": "code",
   "execution_count": 4,
   "metadata": {},
   "outputs": [
    {
     "data": {
      "text/html": [
       "<div>\n",
       "<style scoped>\n",
       "    .dataframe tbody tr th:only-of-type {\n",
       "        vertical-align: middle;\n",
       "    }\n",
       "\n",
       "    .dataframe tbody tr th {\n",
       "        vertical-align: top;\n",
       "    }\n",
       "\n",
       "    .dataframe thead th {\n",
       "        text-align: right;\n",
       "    }\n",
       "</style>\n",
       "<table border=\"1\" class=\"dataframe\">\n",
       "  <thead>\n",
       "    <tr style=\"text-align: right;\">\n",
       "      <th></th>\n",
       "      <th>Mouse ID</th>\n",
       "      <th>Drug Regimen</th>\n",
       "      <th>Sex</th>\n",
       "      <th>Age_months</th>\n",
       "      <th>Weight (g)</th>\n",
       "      <th>Timepoint</th>\n",
       "      <th>Tumor Volume (mm3)</th>\n",
       "      <th>Metastatic Sites</th>\n",
       "    </tr>\n",
       "  </thead>\n",
       "  <tbody>\n",
       "    <tr>\n",
       "      <th>0</th>\n",
       "      <td>k403</td>\n",
       "      <td>Ramicane</td>\n",
       "      <td>Male</td>\n",
       "      <td>21</td>\n",
       "      <td>16</td>\n",
       "      <td>0</td>\n",
       "      <td>45.000000</td>\n",
       "      <td>0</td>\n",
       "    </tr>\n",
       "    <tr>\n",
       "      <th>1</th>\n",
       "      <td>k403</td>\n",
       "      <td>Ramicane</td>\n",
       "      <td>Male</td>\n",
       "      <td>21</td>\n",
       "      <td>16</td>\n",
       "      <td>5</td>\n",
       "      <td>38.825898</td>\n",
       "      <td>0</td>\n",
       "    </tr>\n",
       "    <tr>\n",
       "      <th>2</th>\n",
       "      <td>k403</td>\n",
       "      <td>Ramicane</td>\n",
       "      <td>Male</td>\n",
       "      <td>21</td>\n",
       "      <td>16</td>\n",
       "      <td>10</td>\n",
       "      <td>35.014271</td>\n",
       "      <td>1</td>\n",
       "    </tr>\n",
       "    <tr>\n",
       "      <th>3</th>\n",
       "      <td>k403</td>\n",
       "      <td>Ramicane</td>\n",
       "      <td>Male</td>\n",
       "      <td>21</td>\n",
       "      <td>16</td>\n",
       "      <td>15</td>\n",
       "      <td>34.223992</td>\n",
       "      <td>1</td>\n",
       "    </tr>\n",
       "    <tr>\n",
       "      <th>4</th>\n",
       "      <td>k403</td>\n",
       "      <td>Ramicane</td>\n",
       "      <td>Male</td>\n",
       "      <td>21</td>\n",
       "      <td>16</td>\n",
       "      <td>20</td>\n",
       "      <td>32.997729</td>\n",
       "      <td>1</td>\n",
       "    </tr>\n",
       "    <tr>\n",
       "      <th>...</th>\n",
       "      <td>...</td>\n",
       "      <td>...</td>\n",
       "      <td>...</td>\n",
       "      <td>...</td>\n",
       "      <td>...</td>\n",
       "      <td>...</td>\n",
       "      <td>...</td>\n",
       "      <td>...</td>\n",
       "    </tr>\n",
       "    <tr>\n",
       "      <th>1888</th>\n",
       "      <td>z969</td>\n",
       "      <td>Naftisol</td>\n",
       "      <td>Male</td>\n",
       "      <td>9</td>\n",
       "      <td>30</td>\n",
       "      <td>25</td>\n",
       "      <td>63.145652</td>\n",
       "      <td>2</td>\n",
       "    </tr>\n",
       "    <tr>\n",
       "      <th>1889</th>\n",
       "      <td>z969</td>\n",
       "      <td>Naftisol</td>\n",
       "      <td>Male</td>\n",
       "      <td>9</td>\n",
       "      <td>30</td>\n",
       "      <td>30</td>\n",
       "      <td>65.841013</td>\n",
       "      <td>3</td>\n",
       "    </tr>\n",
       "    <tr>\n",
       "      <th>1890</th>\n",
       "      <td>z969</td>\n",
       "      <td>Naftisol</td>\n",
       "      <td>Male</td>\n",
       "      <td>9</td>\n",
       "      <td>30</td>\n",
       "      <td>35</td>\n",
       "      <td>69.176246</td>\n",
       "      <td>4</td>\n",
       "    </tr>\n",
       "    <tr>\n",
       "      <th>1891</th>\n",
       "      <td>z969</td>\n",
       "      <td>Naftisol</td>\n",
       "      <td>Male</td>\n",
       "      <td>9</td>\n",
       "      <td>30</td>\n",
       "      <td>40</td>\n",
       "      <td>70.314904</td>\n",
       "      <td>4</td>\n",
       "    </tr>\n",
       "    <tr>\n",
       "      <th>1892</th>\n",
       "      <td>z969</td>\n",
       "      <td>Naftisol</td>\n",
       "      <td>Male</td>\n",
       "      <td>9</td>\n",
       "      <td>30</td>\n",
       "      <td>45</td>\n",
       "      <td>73.867845</td>\n",
       "      <td>4</td>\n",
       "    </tr>\n",
       "  </tbody>\n",
       "</table>\n",
       "<p>1883 rows × 8 columns</p>\n",
       "</div>"
      ],
      "text/plain": [
       "     Mouse ID Drug Regimen   Sex  Age_months  Weight (g)  Timepoint  \\\n",
       "0        k403     Ramicane  Male          21          16          0   \n",
       "1        k403     Ramicane  Male          21          16          5   \n",
       "2        k403     Ramicane  Male          21          16         10   \n",
       "3        k403     Ramicane  Male          21          16         15   \n",
       "4        k403     Ramicane  Male          21          16         20   \n",
       "...       ...          ...   ...         ...         ...        ...   \n",
       "1888     z969     Naftisol  Male           9          30         25   \n",
       "1889     z969     Naftisol  Male           9          30         30   \n",
       "1890     z969     Naftisol  Male           9          30         35   \n",
       "1891     z969     Naftisol  Male           9          30         40   \n",
       "1892     z969     Naftisol  Male           9          30         45   \n",
       "\n",
       "      Tumor Volume (mm3)  Metastatic Sites  \n",
       "0              45.000000                 0  \n",
       "1              38.825898                 0  \n",
       "2              35.014271                 1  \n",
       "3              34.223992                 1  \n",
       "4              32.997729                 1  \n",
       "...                  ...               ...  \n",
       "1888           63.145652                 2  \n",
       "1889           65.841013                 3  \n",
       "1890           69.176246                 4  \n",
       "1891           70.314904                 4  \n",
       "1892           73.867845                 4  \n",
       "\n",
       "[1883 rows x 8 columns]"
      ]
     },
     "execution_count": 4,
     "metadata": {},
     "output_type": "execute_result"
    }
   ],
   "source": [
    "# Create a clean DataFrame by dropping the duplicate mouse by its ID.\n",
    "\n",
    "# Drop all duplicate entries as suggested by instructions\n",
    "mouse_study_data = mouse_study_data_Dups[~mouse_dup]\n",
    "mouse_study_data"
   ]
  },
  {
   "cell_type": "code",
   "execution_count": 5,
   "metadata": {},
   "outputs": [
    {
     "name": "stdout",
     "output_type": "stream",
     "text": [
      "1883\n"
     ]
    }
   ],
   "source": [
    "# Checking the number of mice in the clean DataFrame.\n",
    "print(mouse_study_data[\"Mouse ID\"].count())"
   ]
  },
  {
   "cell_type": "markdown",
   "metadata": {},
   "source": [
    "## Summary Statistics"
   ]
  },
  {
   "cell_type": "code",
   "execution_count": 6,
   "metadata": {},
   "outputs": [],
   "source": [
    "# Generate a summary statistics table of mean, median, variance, standard deviation, and SEM of the tumor volume for each regimen\n",
    "\n",
    "# This method is the most straighforward, creating multiple series and putting them all together at the end.\n",
    "# Define a template DataFrame to dreive different statistics methods for the required values specified abobe\n",
    "temp_stats = mouse_study_data.groupby(['Drug Regimen'])['Tumor Volume (mm3)']\n",
    "avg_stats = temp_stats.mean()\n",
    "med_stats = temp_stats.median()\n",
    "var_stats = temp_stats.var()\n",
    "std_stats = temp_stats.std()\n",
    "sem_stats = temp_stats.sem()"
   ]
  },
  {
   "cell_type": "code",
   "execution_count": 7,
   "metadata": {
    "scrolled": true
   },
   "outputs": [
    {
     "data": {
      "text/html": [
       "<style  type=\"text/css\" >\n",
       "</style><table id=\"T_a864634c_7c40_11ea_8f48_087190a24751\" ><thead>    <tr>        <th class=\"blank level0\" ></th>        <th class=\"col_heading level0 col0\" >Mean</th>        <th class=\"col_heading level0 col1\" >Median</th>        <th class=\"col_heading level0 col2\" >Variance</th>        <th class=\"col_heading level0 col3\" >Standard Deviation</th>        <th class=\"col_heading level0 col4\" >SEM</th>    </tr>    <tr>        <th class=\"index_name level0\" >Drug Regimen</th>        <th class=\"blank\" ></th>        <th class=\"blank\" ></th>        <th class=\"blank\" ></th>        <th class=\"blank\" ></th>        <th class=\"blank\" ></th>    </tr></thead><tbody>\n",
       "                <tr>\n",
       "                        <th id=\"T_a864634c_7c40_11ea_8f48_087190a24751level0_row0\" class=\"row_heading level0 row0\" >Capomulin</th>\n",
       "                        <td id=\"T_a864634c_7c40_11ea_8f48_087190a24751row0_col0\" class=\"data row0 col0\" >40.68</td>\n",
       "                        <td id=\"T_a864634c_7c40_11ea_8f48_087190a24751row0_col1\" class=\"data row0 col1\" >41.56</td>\n",
       "                        <td id=\"T_a864634c_7c40_11ea_8f48_087190a24751row0_col2\" class=\"data row0 col2\" >24.95</td>\n",
       "                        <td id=\"T_a864634c_7c40_11ea_8f48_087190a24751row0_col3\" class=\"data row0 col3\" >4.99</td>\n",
       "                        <td id=\"T_a864634c_7c40_11ea_8f48_087190a24751row0_col4\" class=\"data row0 col4\" >0.33</td>\n",
       "            </tr>\n",
       "            <tr>\n",
       "                        <th id=\"T_a864634c_7c40_11ea_8f48_087190a24751level0_row1\" class=\"row_heading level0 row1\" >Ceftamin</th>\n",
       "                        <td id=\"T_a864634c_7c40_11ea_8f48_087190a24751row1_col0\" class=\"data row1 col0\" >52.59</td>\n",
       "                        <td id=\"T_a864634c_7c40_11ea_8f48_087190a24751row1_col1\" class=\"data row1 col1\" >51.78</td>\n",
       "                        <td id=\"T_a864634c_7c40_11ea_8f48_087190a24751row1_col2\" class=\"data row1 col2\" >39.29</td>\n",
       "                        <td id=\"T_a864634c_7c40_11ea_8f48_087190a24751row1_col3\" class=\"data row1 col3\" >6.27</td>\n",
       "                        <td id=\"T_a864634c_7c40_11ea_8f48_087190a24751row1_col4\" class=\"data row1 col4\" >0.47</td>\n",
       "            </tr>\n",
       "            <tr>\n",
       "                        <th id=\"T_a864634c_7c40_11ea_8f48_087190a24751level0_row2\" class=\"row_heading level0 row2\" >Infubinol</th>\n",
       "                        <td id=\"T_a864634c_7c40_11ea_8f48_087190a24751row2_col0\" class=\"data row2 col0\" >52.88</td>\n",
       "                        <td id=\"T_a864634c_7c40_11ea_8f48_087190a24751row2_col1\" class=\"data row2 col1\" >51.82</td>\n",
       "                        <td id=\"T_a864634c_7c40_11ea_8f48_087190a24751row2_col2\" class=\"data row2 col2\" >43.13</td>\n",
       "                        <td id=\"T_a864634c_7c40_11ea_8f48_087190a24751row2_col3\" class=\"data row2 col3\" >6.57</td>\n",
       "                        <td id=\"T_a864634c_7c40_11ea_8f48_087190a24751row2_col4\" class=\"data row2 col4\" >0.49</td>\n",
       "            </tr>\n",
       "            <tr>\n",
       "                        <th id=\"T_a864634c_7c40_11ea_8f48_087190a24751level0_row3\" class=\"row_heading level0 row3\" >Ketapril</th>\n",
       "                        <td id=\"T_a864634c_7c40_11ea_8f48_087190a24751row3_col0\" class=\"data row3 col0\" >55.24</td>\n",
       "                        <td id=\"T_a864634c_7c40_11ea_8f48_087190a24751row3_col1\" class=\"data row3 col1\" >53.70</td>\n",
       "                        <td id=\"T_a864634c_7c40_11ea_8f48_087190a24751row3_col2\" class=\"data row3 col2\" >68.55</td>\n",
       "                        <td id=\"T_a864634c_7c40_11ea_8f48_087190a24751row3_col3\" class=\"data row3 col3\" >8.28</td>\n",
       "                        <td id=\"T_a864634c_7c40_11ea_8f48_087190a24751row3_col4\" class=\"data row3 col4\" >0.60</td>\n",
       "            </tr>\n",
       "            <tr>\n",
       "                        <th id=\"T_a864634c_7c40_11ea_8f48_087190a24751level0_row4\" class=\"row_heading level0 row4\" >Naftisol</th>\n",
       "                        <td id=\"T_a864634c_7c40_11ea_8f48_087190a24751row4_col0\" class=\"data row4 col0\" >54.33</td>\n",
       "                        <td id=\"T_a864634c_7c40_11ea_8f48_087190a24751row4_col1\" class=\"data row4 col1\" >52.51</td>\n",
       "                        <td id=\"T_a864634c_7c40_11ea_8f48_087190a24751row4_col2\" class=\"data row4 col2\" >66.17</td>\n",
       "                        <td id=\"T_a864634c_7c40_11ea_8f48_087190a24751row4_col3\" class=\"data row4 col3\" >8.13</td>\n",
       "                        <td id=\"T_a864634c_7c40_11ea_8f48_087190a24751row4_col4\" class=\"data row4 col4\" >0.60</td>\n",
       "            </tr>\n",
       "            <tr>\n",
       "                        <th id=\"T_a864634c_7c40_11ea_8f48_087190a24751level0_row5\" class=\"row_heading level0 row5\" >Placebo</th>\n",
       "                        <td id=\"T_a864634c_7c40_11ea_8f48_087190a24751row5_col0\" class=\"data row5 col0\" >54.03</td>\n",
       "                        <td id=\"T_a864634c_7c40_11ea_8f48_087190a24751row5_col1\" class=\"data row5 col1\" >52.29</td>\n",
       "                        <td id=\"T_a864634c_7c40_11ea_8f48_087190a24751row5_col2\" class=\"data row5 col2\" >61.17</td>\n",
       "                        <td id=\"T_a864634c_7c40_11ea_8f48_087190a24751row5_col3\" class=\"data row5 col3\" >7.82</td>\n",
       "                        <td id=\"T_a864634c_7c40_11ea_8f48_087190a24751row5_col4\" class=\"data row5 col4\" >0.58</td>\n",
       "            </tr>\n",
       "            <tr>\n",
       "                        <th id=\"T_a864634c_7c40_11ea_8f48_087190a24751level0_row6\" class=\"row_heading level0 row6\" >Propriva</th>\n",
       "                        <td id=\"T_a864634c_7c40_11ea_8f48_087190a24751row6_col0\" class=\"data row6 col0\" >52.46</td>\n",
       "                        <td id=\"T_a864634c_7c40_11ea_8f48_087190a24751row6_col1\" class=\"data row6 col1\" >50.85</td>\n",
       "                        <td id=\"T_a864634c_7c40_11ea_8f48_087190a24751row6_col2\" class=\"data row6 col2\" >44.05</td>\n",
       "                        <td id=\"T_a864634c_7c40_11ea_8f48_087190a24751row6_col3\" class=\"data row6 col3\" >6.64</td>\n",
       "                        <td id=\"T_a864634c_7c40_11ea_8f48_087190a24751row6_col4\" class=\"data row6 col4\" >0.54</td>\n",
       "            </tr>\n",
       "            <tr>\n",
       "                        <th id=\"T_a864634c_7c40_11ea_8f48_087190a24751level0_row7\" class=\"row_heading level0 row7\" >Ramicane</th>\n",
       "                        <td id=\"T_a864634c_7c40_11ea_8f48_087190a24751row7_col0\" class=\"data row7 col0\" >40.22</td>\n",
       "                        <td id=\"T_a864634c_7c40_11ea_8f48_087190a24751row7_col1\" class=\"data row7 col1\" >40.67</td>\n",
       "                        <td id=\"T_a864634c_7c40_11ea_8f48_087190a24751row7_col2\" class=\"data row7 col2\" >23.49</td>\n",
       "                        <td id=\"T_a864634c_7c40_11ea_8f48_087190a24751row7_col3\" class=\"data row7 col3\" >4.85</td>\n",
       "                        <td id=\"T_a864634c_7c40_11ea_8f48_087190a24751row7_col4\" class=\"data row7 col4\" >0.32</td>\n",
       "            </tr>\n",
       "            <tr>\n",
       "                        <th id=\"T_a864634c_7c40_11ea_8f48_087190a24751level0_row8\" class=\"row_heading level0 row8\" >Stelasyn</th>\n",
       "                        <td id=\"T_a864634c_7c40_11ea_8f48_087190a24751row8_col0\" class=\"data row8 col0\" >54.23</td>\n",
       "                        <td id=\"T_a864634c_7c40_11ea_8f48_087190a24751row8_col1\" class=\"data row8 col1\" >52.43</td>\n",
       "                        <td id=\"T_a864634c_7c40_11ea_8f48_087190a24751row8_col2\" class=\"data row8 col2\" >59.45</td>\n",
       "                        <td id=\"T_a864634c_7c40_11ea_8f48_087190a24751row8_col3\" class=\"data row8 col3\" >7.71</td>\n",
       "                        <td id=\"T_a864634c_7c40_11ea_8f48_087190a24751row8_col4\" class=\"data row8 col4\" >0.57</td>\n",
       "            </tr>\n",
       "            <tr>\n",
       "                        <th id=\"T_a864634c_7c40_11ea_8f48_087190a24751level0_row9\" class=\"row_heading level0 row9\" >Zoniferol</th>\n",
       "                        <td id=\"T_a864634c_7c40_11ea_8f48_087190a24751row9_col0\" class=\"data row9 col0\" >53.24</td>\n",
       "                        <td id=\"T_a864634c_7c40_11ea_8f48_087190a24751row9_col1\" class=\"data row9 col1\" >51.82</td>\n",
       "                        <td id=\"T_a864634c_7c40_11ea_8f48_087190a24751row9_col2\" class=\"data row9 col2\" >48.53</td>\n",
       "                        <td id=\"T_a864634c_7c40_11ea_8f48_087190a24751row9_col3\" class=\"data row9 col3\" >6.97</td>\n",
       "                        <td id=\"T_a864634c_7c40_11ea_8f48_087190a24751row9_col4\" class=\"data row9 col4\" >0.52</td>\n",
       "            </tr>\n",
       "    </tbody></table>"
      ],
      "text/plain": [
       "<pandas.io.formats.style.Styler at 0x1f52a640d30>"
      ]
     },
     "execution_count": 7,
     "metadata": {},
     "output_type": "execute_result"
    }
   ],
   "source": [
    "# Generate a summary statistics table of mean, median, variance, standard deviation, and SEM of the tumor volume for each regimen\n",
    "\n",
    "# Combine the five Series above to derive Summary Statistics DataFrame after formatting\n",
    "summary_stats = pd.DataFrame({\"Mean\": avg_stats, \"Median\": med_stats, \"Variance\": var_stats, \"Standard Deviation\": std_stats,\n",
    "                              \"SEM\": sem_stats})\n",
    "summary_stats.style.format(\"{:.2f}\")"
   ]
  },
  {
   "cell_type": "markdown",
   "metadata": {},
   "source": [
    "## Bar Plots"
   ]
  },
  {
   "cell_type": "code",
   "execution_count": 21,
   "metadata": {},
   "outputs": [
    {
     "data": {
      "image/png": "[encoded data removed]",
      "text/plain": [
       "<Figure size 432x288 with 1 Axes>"
      ]
     },
     "metadata": {
      "needs_background": "light"
     },
     "output_type": "display_data"
    }
   ],
   "source": [
    "# Generate a bar plot showing the number of mice per time point for each treatment throughout the course of the study using pandas. \n",
    "\n",
    "mice_time_points = mouse_study_data['Drug Regimen'].value_counts()\n",
    "mice_time_points.plot.bar(color=\"navy\", width=0.6)\n",
    "# Embelish the plot properties improving the default display properties\n",
    "plt.ylabel(\"Mice per Time Point\")\n",
    "plt.xlabel(\"Treatment Type\")\n",
    "plt.title(\"Number of Mice per Time Point by Treatment Type\", fontdict={'fontweight':'bold', 'fontsize':12})\n",
    "plt.xlim(-0.8,9.8)\n",
    "plt.ylim(0,250)\n",
    "#plt.xticks(rotation=45)\n",
    "plt.tight_layout()\n",
    "plt.show()  ### Observations and Insights figsize=(10,6))"
   ]
  },
  {
   "cell_type": "code",
   "execution_count": 22,
   "metadata": {},
   "outputs": [
    {
     "data": {
      "image/png": "[encoded data removed]",
      "text/plain": [
       "<Figure size 432x288 with 1 Axes>"
      ]
     },
     "metadata": {
      "needs_background": "light"
     },
     "output_type": "display_data"
    }
   ],
   "source": [
    "# Generate a bar plot showing the number of mice per time point for each treatment throughout the course of the study using pyplot.\n",
    "\n",
    "plt.bar(mice_time_points.index, mice_time_points.values, color=\"navy\", width=0.6)\n",
    "# Embelish the plot properties improving the default display properties, Uncommment plt.xticks(rotation=45) from previous plot\n",
    "plt.ylabel(\"Mice per Time Point\")\n",
    "plt.xlabel(\"Treatment Type\")\n",
    "plt.title(\"Number of Mice per Time Point by Treatment Type\", fontdict={'fontweight':'bold', 'fontsize':12})\n",
    "plt.xlim(-0.8,9.8)\n",
    "plt.ylim(0,250)\n",
    "plt.xticks(rotation=45)\n",
    "plt.tight_layout()\n",
    "plt.show()"
   ]
  },
  {
   "cell_type": "markdown",
   "metadata": {},
   "source": [
    "## Pie Plots"
   ]
  },
  {
   "cell_type": "code",
   "execution_count": 10,
   "metadata": {},
   "outputs": [
    {
     "data": {
      "image/png": "[encoded data removed]",
      "text/plain": [
       "<Figure size 432x288 with 1 Axes>"
      ]
     },
     "metadata": {},
     "output_type": "display_data"
    }
   ],
   "source": [
    "# Generate a pie plot showing the distribution of female versus male mice using pandas\n",
    "\n",
    "# Define global variables to be shared by both Pandas and PyPlot based pie charts\n",
    "colors = [\"yellowgreen\", \"red\"]\n",
    "explode = (0.075, 0)\n",
    "mice_gender = mouse_study_data.Sex.value_counts()\n",
    "mice_gender.plot.pie(explode=explode, colors=colors, autopct=\"%1.1f%%\", shadow=True, startangle=140)\n",
    "\n",
    "# Embelish the plot via title properties\n",
    "plt.title(\"Mice Gender Distribution\", fontdict={'fontweight':'bold', 'fontsize':16})\n",
    "plt.show()"
   ]
  },
  {
   "cell_type": "code",
   "execution_count": 11,
   "metadata": {},
   "outputs": [
    {
     "data": {
      "image/png": "[encoded data removed]",
      "text/plain": [
       "<Figure size 432x288 with 1 Axes>"
      ]
     },
     "metadata": {},
     "output_type": "display_data"
    }
   ],
   "source": [
    "# Generate a pie plot showing the distribution of female versus male mice using pyplot\n",
    "\n",
    "genders = [\"Male\", \"Female\"]\n",
    "plt.pie(mice_gender.values, explode=explode, labels=genders, colors=colors,\n",
    "        autopct=\"%1.1f%%\", shadow=True, startangle=140)\n",
    "# Embelish the plot via title properties - this one is local to plt object\n",
    "plt.title(\"Mice Gender Distribution\", fontdict={'fontweight':'bold', 'fontsize':16})\n",
    "plt.show()"
   ]
  },
  {
   "cell_type": "markdown",
   "metadata": {},
   "source": [
    "## Quartiles, Outliers and Boxplots"
   ]
  },
  {
   "cell_type": "code",
   "execution_count": 12,
   "metadata": {},
   "outputs": [],
   "source": [
    "# Calculate the final tumor volume of each mouse across four of the most promising treatment regimens. Calculate the IQR and quantitatively determine if there are any potential outliers. \n",
    "\n",
    "IQR = mouse_study_data.groupby(\"Mouse ID\").max().reset_index()\n",
    "#IQR.to_excel(\"IQR1.xlsx\")\n",
    "#Create a new variable using columns of interest\n",
    "Pot_outlier = IQR[[\"Mouse ID\", \"Timepoint\"]].merge(mouse_study_data, on=[\"Mouse ID\", \"Timepoint\"], how=\"left\")\n",
    "\n",
    "# Selected the four most promising drug regimens: Capomulin, Ramicane, Infubinol, and Ceftamin\n",
    "Capomulin_drug = Pot_outlier.loc[Pot_outlier[\"Drug Regimen\"]== \"Capomulin\"][\"Tumor Volume (mm3)\"]\n",
    "Ramicane_drug = Pot_outlier.loc[Pot_outlier[\"Drug Regimen\"]== \"Ramicane\"][\"Tumor Volume (mm3)\"]\n",
    "Infubinol_drug = Pot_outlier.loc[Pot_outlier[\"Drug Regimen\"]== \"Infubinol\"][\"Tumor Volume (mm3)\"]\n",
    "Ceftamin_drug = Pot_outlier.loc[Pot_outlier[\"Drug Regimen\"]== \"Ceftamin\"][\"Tumor Volume (mm3)\"]"
   ]
  },
  {
   "cell_type": "code",
   "execution_count": 13,
   "metadata": {},
   "outputs": [
    {
     "data": {
      "image/png": "[encoded data removed]",
      "text/plain": [
       "<Figure size 432x288 with 1 Axes>"
      ]
     },
     "metadata": {
      "needs_background": "light"
     },
     "output_type": "display_data"
    }
   ],
   "source": [
    "# Generate a box plot of the final tumor volume of each mouse across four regimens of interest\n",
    "\n",
    "marker = dict(markerfacecolor=\"red\", markersize=12)\n",
    "plt.boxplot([Capomulin_drug, Ramicane_drug, Infubinol_drug, Ceftamin_drug], labels=[\"Capo\", \"Rami\", \"Infu\", \"Cefta\"], flierprops=marker)\n",
    "plt.title(\"Box plot of the final tumor volume for top drugs\", fontdict={'fontweight':'bold', 'fontsize':12})\n",
    "plt.xlabel(\"Drug Type\")\n",
    "plt.ylabel(\"Tumor Volume\")\n",
    "plt.show()"
   ]
  },
  {
   "cell_type": "markdown",
   "metadata": {},
   "source": [
    "## Line and Scatter Plots"
   ]
  },
  {
   "cell_type": "code",
   "execution_count": 14,
   "metadata": {},
   "outputs": [
    {
     "data": {
      "text/plain": [
       "<function matplotlib.pyplot.show(*args, **kw)>"
      ]
     },
     "execution_count": 14,
     "metadata": {},
     "output_type": "execute_result"
    },
    {
     "data": {
      "image/png": "[encoded data removed]",
      "text/plain": [
       "<Figure size 432x288 with 1 Axes>"
      ]
     },
     "metadata": {
      "needs_background": "light"
     },
     "output_type": "display_data"
    }
   ],
   "source": [
    "# Generate a line plot of #time point versus tumor volume for a mouse treated with Capomulin\n",
    "\n",
    "# Define Series to create line plot plotting Timepoint versus Tumor Volume (mm3)\n",
    "Mice_Capomulin = mouse_study_data.loc[mouse_study_data[\"Drug Regimen\"] == \"Capomulin\"]\n",
    "Mouse_Capomulin_l509 = mouse_study_data.loc[mouse_study_data[\"Mouse ID\"] == \"l509\"]\n",
    "Mouse_Capomulin_l509.plot(kind=\"line\", x=\"Timepoint\", y=\"Tumor Volume (mm3)\", grid=False, figsize=(6,4))\n",
    "\n",
    "# Embelish the plot via title properties - this one is local to plt object\n",
    "plt.title(\"Capomulin treatment results for mouse l509\", fontdict={'fontweight':'bold', 'fontsize':13})\n",
    "plt.xlabel(\"Timepoint (days)\")\n",
    "plt.ylabel(\"Tumor Volume (mm3)\")\n",
    "plt.show"
   ]
  },
  {
   "cell_type": "code",
   "execution_count": 15,
   "metadata": {},
   "outputs": [
    {
     "data": {
      "text/plain": [
       "<function matplotlib.pyplot.show(*args, **kw)>"
      ]
     },
     "execution_count": 15,
     "metadata": {},
     "output_type": "execute_result"
    },
    {
     "data": {
      "image/png": "[encoded data removed]",
      "text/plain": [
       "<Figure size 432x288 with 1 Axes>"
      ]
     },
     "metadata": {
      "needs_background": "light"
     },
     "output_type": "display_data"
    }
   ],
   "source": [
    "# Generate a scatter plot of mouse weight versus average tumor volume for the Capomulin regimen\n",
    "\n",
    "Mice_Capomulin = mouse_study_data.loc[mouse_study_data[\"Drug Regimen\"] == \"Capomulin\"]\n",
    "Mice_Capomulin_id = Mice_Capomulin.groupby([\"Mouse ID\"]).mean()\n",
    "\n",
    "# Embelish the plot via title properties - this one is local to plt object\n",
    "plt.scatter(Mice_Capomulin_id[\"Weight (g)\"], Mice_Capomulin_id[\"Tumor Volume (mm3)\"])\n",
    "plt.title(\"Weight vs. Average Tumor Volume for Capomulin\", fontdict={'fontweight':'bold', 'fontsize':12})\n",
    "plt.xlabel(\"Weight (g)\")\n",
    "plt.ylabel(\"Average Tumor Volume (mm3)\")\n",
    "plt.show"
   ]
  },
  {
   "cell_type": "markdown",
   "metadata": {},
   "source": [
    "## Correlation and Regression"
   ]
  },
  {
   "cell_type": "code",
   "execution_count": 16,
   "metadata": {},
   "outputs": [
    {
     "name": "stdout",
     "output_type": "stream",
     "text": [
      "The correlation between both factors is 0.84\n"
     ]
    },
    {
     "data": {
      "image/png": "[encoded data removed]",
      "text/plain": [
       "<Figure size 432x288 with 1 Axes>"
      ]
     },
     "metadata": {
      "needs_background": "light"
     },
     "output_type": "display_data"
    }
   ],
   "source": [
    "# Calculate the correlation coefficient and linear regression model for mouse weight and average tumor volume for the Capomulin regimen\n",
    "\n",
    "# Derived correlation coefficient\n",
    "correlation = st.pearsonr(Mice_Capomulin_id[\"Weight (g)\"], Mice_Capomulin_id[\"Tumor Volume (mm3)\"])\n",
    "print(f\"The correlation between both factors is {round(correlation[0],2)}\")\n",
    "\n",
    "# Recreat previous scatter chart with a regression fit based on Linear Regression \n",
    "x_values = Mice_Capomulin_id[\"Weight (g)\"]\n",
    "y_values = Mice_Capomulin_id[\"Tumor Volume (mm3)\"]\n",
    "(slope, intercept, rvalue, pvalue, stderr) = st.linregress(x_values, y_values)\n",
    "regress_values = x_values * slope + intercept\n",
    "line_eq = \"y = \" + str(round(slope,2)) + \"x + \" + str(round(intercept,2))\n",
    "plt.scatter(x_values,y_values)\n",
    "plt.plot(x_values,regress_values,\"r-\")\n",
    "plt.annotate(line_eq,(15,44.5),fontsize=14,color=\"navy\") \n",
    "plt.title(\"Previous Plot with Linear Regression added\", fontdict={'fontweight':'bold', 'fontsize':13})\n",
    "plt.xlabel(\"Weight (g)\")\n",
    "plt.ylabel(\"Average Tumor Volume (mm3)\")\n",
    "plt.show()"
   ]
  },
  {
   "cell_type": "code",
   "execution_count": null,
   "metadata": {},
   "outputs": [],
   "source": []
  }
 ],
 "metadata": {
  "anaconda-cloud": {},
  "kernelspec": {
   "display_name": "Python 3",
   "language": "python",
   "name": "python3"
  },
  "language_info": {
   "codemirror_mode": {
    "name": "ipython",
    "version": 3
   },
   "file_extension": ".py",
   "mimetype": "text/x-python",
   "name": "python",
   "nbconvert_exporter": "python",
   "pygments_lexer": "ipython3",
   "version": "3.6.10"
  }
 },
 "nbformat": 4,
 "nbformat_minor": 2
}
